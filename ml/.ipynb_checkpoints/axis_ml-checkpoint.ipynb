{
 "cells": [
  {
   "cell_type": "code",
   "execution_count": 7,
   "metadata": {},
   "outputs": [
    {
     "data": {
      "text/html": [
       "<div>\n",
       "<style scoped>\n",
       "    .dataframe tbody tr th:only-of-type {\n",
       "        vertical-align: middle;\n",
       "    }\n",
       "\n",
       "    .dataframe tbody tr th {\n",
       "        vertical-align: top;\n",
       "    }\n",
       "\n",
       "    .dataframe thead th {\n",
       "        text-align: right;\n",
       "    }\n",
       "</style>\n",
       "<table border=\"1\" class=\"dataframe\">\n",
       "  <thead>\n",
       "    <tr style=\"text-align: right;\">\n",
       "      <th></th>\n",
       "      <th>0</th>\n",
       "      <th>1</th>\n",
       "      <th>2</th>\n",
       "      <th>3</th>\n",
       "      <th>4</th>\n",
       "      <th>5</th>\n",
       "      <th>6</th>\n",
       "      <th>7</th>\n",
       "      <th>8</th>\n",
       "      <th>9</th>\n",
       "      <th>...</th>\n",
       "      <th>128</th>\n",
       "      <th>129</th>\n",
       "      <th>130</th>\n",
       "      <th>131</th>\n",
       "      <th>132</th>\n",
       "      <th>133</th>\n",
       "      <th>134</th>\n",
       "      <th>135</th>\n",
       "      <th>136</th>\n",
       "      <th>137</th>\n",
       "    </tr>\n",
       "  </thead>\n",
       "  <tbody>\n",
       "    <tr>\n",
       "      <th>0</th>\n",
       "      <td>-367</td>\n",
       "      <td>-26</td>\n",
       "      <td>-366</td>\n",
       "      <td>58</td>\n",
       "      <td>-362</td>\n",
       "      <td>143</td>\n",
       "      <td>-342</td>\n",
       "      <td>221</td>\n",
       "      <td>-298</td>\n",
       "      <td>290</td>\n",
       "      <td>...</td>\n",
       "      <td>52</td>\n",
       "      <td>280</td>\n",
       "      <td>33</td>\n",
       "      <td>289</td>\n",
       "      <td>13</td>\n",
       "      <td>294</td>\n",
       "      <td>-10</td>\n",
       "      <td>294</td>\n",
       "      <td>10</td>\n",
       "      <td>720</td>\n",
       "    </tr>\n",
       "    <tr>\n",
       "      <th>1</th>\n",
       "      <td>-375</td>\n",
       "      <td>-29</td>\n",
       "      <td>-372</td>\n",
       "      <td>58</td>\n",
       "      <td>-367</td>\n",
       "      <td>144</td>\n",
       "      <td>-344</td>\n",
       "      <td>223</td>\n",
       "      <td>-295</td>\n",
       "      <td>292</td>\n",
       "      <td>...</td>\n",
       "      <td>61</td>\n",
       "      <td>276</td>\n",
       "      <td>33</td>\n",
       "      <td>286</td>\n",
       "      <td>15</td>\n",
       "      <td>291</td>\n",
       "      <td>-10</td>\n",
       "      <td>290</td>\n",
       "      <td>20</td>\n",
       "      <td>720</td>\n",
       "    </tr>\n",
       "    <tr>\n",
       "      <th>2</th>\n",
       "      <td>-368</td>\n",
       "      <td>-19</td>\n",
       "      <td>-367</td>\n",
       "      <td>67</td>\n",
       "      <td>-362</td>\n",
       "      <td>152</td>\n",
       "      <td>-338</td>\n",
       "      <td>230</td>\n",
       "      <td>-288</td>\n",
       "      <td>297</td>\n",
       "      <td>...</td>\n",
       "      <td>60</td>\n",
       "      <td>278</td>\n",
       "      <td>37</td>\n",
       "      <td>290</td>\n",
       "      <td>18</td>\n",
       "      <td>295</td>\n",
       "      <td>-6</td>\n",
       "      <td>295</td>\n",
       "      <td>30</td>\n",
       "      <td>720</td>\n",
       "    </tr>\n",
       "    <tr>\n",
       "      <th>3</th>\n",
       "      <td>-372</td>\n",
       "      <td>-17</td>\n",
       "      <td>-370</td>\n",
       "      <td>66</td>\n",
       "      <td>-365</td>\n",
       "      <td>150</td>\n",
       "      <td>-341</td>\n",
       "      <td>229</td>\n",
       "      <td>-292</td>\n",
       "      <td>295</td>\n",
       "      <td>...</td>\n",
       "      <td>57</td>\n",
       "      <td>276</td>\n",
       "      <td>33</td>\n",
       "      <td>285</td>\n",
       "      <td>14</td>\n",
       "      <td>291</td>\n",
       "      <td>-9</td>\n",
       "      <td>291</td>\n",
       "      <td>40</td>\n",
       "      <td>720</td>\n",
       "    </tr>\n",
       "    <tr>\n",
       "      <th>4</th>\n",
       "      <td>-370</td>\n",
       "      <td>-15</td>\n",
       "      <td>-365</td>\n",
       "      <td>71</td>\n",
       "      <td>-358</td>\n",
       "      <td>155</td>\n",
       "      <td>-335</td>\n",
       "      <td>234</td>\n",
       "      <td>-286</td>\n",
       "      <td>300</td>\n",
       "      <td>...</td>\n",
       "      <td>57</td>\n",
       "      <td>276</td>\n",
       "      <td>34</td>\n",
       "      <td>284</td>\n",
       "      <td>14</td>\n",
       "      <td>290</td>\n",
       "      <td>-8</td>\n",
       "      <td>290</td>\n",
       "      <td>50</td>\n",
       "      <td>720</td>\n",
       "    </tr>\n",
       "  </tbody>\n",
       "</table>\n",
       "<p>5 rows × 138 columns</p>\n",
       "</div>"
      ],
      "text/plain": [
       "   0    1    2    3    4    5    6    7    8    9    ...  128  129  130  131  \\\n",
       "0 -367  -26 -366   58 -362  143 -342  221 -298  290  ...   52  280   33  289   \n",
       "1 -375  -29 -372   58 -367  144 -344  223 -295  292  ...   61  276   33  286   \n",
       "2 -368  -19 -367   67 -362  152 -338  230 -288  297  ...   60  278   37  290   \n",
       "3 -372  -17 -370   66 -365  150 -341  229 -292  295  ...   57  276   33  285   \n",
       "4 -370  -15 -365   71 -358  155 -335  234 -286  300  ...   57  276   34  284   \n",
       "\n",
       "   132  133  134  135  136  137  \n",
       "0   13  294  -10  294   10  720  \n",
       "1   15  291  -10  290   20  720  \n",
       "2   18  295   -6  295   30  720  \n",
       "3   14  291   -9  291   40  720  \n",
       "4   14  290   -8  290   50  720  \n",
       "\n",
       "[5 rows x 138 columns]"
      ]
     },
     "execution_count": 7,
     "metadata": {},
     "output_type": "execute_result"
    }
   ],
   "source": [
    "import pandas as pd\n",
    "import matplotlib.pyplot as plt\n",
    "\n",
    "df = pd.read_csv(\"../data/x_axis.txt\", sep=\" \", header=None)\n",
    "df.head()"
   ]
  },
  {
   "cell_type": "code",
   "execution_count": 30,
   "metadata": {},
   "outputs": [],
   "source": [
    "# df.corr()[136]"
   ]
  },
  {
   "cell_type": "code",
   "execution_count": 74,
   "metadata": {},
   "outputs": [
    {
     "name": "stderr",
     "output_type": "stream",
     "text": [
      "C:\\Users\\kosuke\\Anaconda3\\lib\\site-packages\\sklearn\\linear_model\\logistic.py:433: FutureWarning: Default solver will be changed to 'lbfgs' in 0.22. Specify a solver to silence this warning.\n",
      "  FutureWarning)\n",
      "C:\\Users\\kosuke\\Anaconda3\\lib\\site-packages\\sklearn\\utils\\validation.py:761: DataConversionWarning: A column-vector y was passed when a 1d array was expected. Please change the shape of y to (n_samples, ), for example using ravel().\n",
      "  y = column_or_1d(y, warn=True)\n",
      "C:\\Users\\kosuke\\Anaconda3\\lib\\site-packages\\sklearn\\linear_model\\logistic.py:460: FutureWarning: Default multi_class will be changed to 'auto' in 0.22. Specify the multi_class option to silence this warning.\n",
      "  \"this warning.\", FutureWarning)\n"
     ]
    },
    {
     "data": {
      "text/plain": [
       "array([ 20,  20,  20,  20,  20,  20,  20,  20,  20,  20,  20,  20,  20,\n",
       "        20,  20,  20,  20,  20,  20,  20,  20,  20,  20,  20,  20,  20,\n",
       "        20,  20,  20,  20,  20,  20,  20,  20,  20,  20,  20,  20,  20,\n",
       "        20,  20,  20,  20,  20,  20,  20,  20,  20,  20,  20,  20,  20,\n",
       "        20,  20,  20,  20,  20,  20,  20,  20,  20,  20,  20,  20,  20,\n",
       "        20,  20,  20,  20,  20,  20,  20,  20,  20,  20,  20,  20,  20,\n",
       "        20,  20,  20,  20,  20,  20,  20,  20,  20,  20,  20,  20,  20,\n",
       "        20,  20,  20,  20,  20,  20,  20,  20,  20,  20,  20,  20,  20,\n",
       "        20,  20,  20,  20,  20,  20,  20,  20,  20,  20,  20,  20,  20,\n",
       "        20,  20,  20,  20,  20,  20,  20,  20,  20,  20,  20,  20,  20,\n",
       "        20,  20,  20,  20,  20,  20,  20,  20,  20,  20,  20,  20,  20,\n",
       "        20,  20,  20,  20,  20,  20,  20,  20,  20,  20,  20,  20,  20,\n",
       "        20,  20,  20,  20,  20,  20,  20,  20,  20,  20,  20,  20,  20,\n",
       "        20,  20,  20,  20,  20,  20,  20,  20,  20,  20,  20,  20,  20,\n",
       "        20,  20,  20,  20,  20,  20,  20,  20,  20,  20,  20,  20,  20,\n",
       "        20,  20,  20,  20,  20,  20,  20,  20,  20,  20,  20,  20,  20,\n",
       "        20,  20,  20,  20,  20,  20,  20,  20,  20,  20,  20,  20,  20,\n",
       "        20,  20,  20,  20, 560], dtype=int64)"
      ]
     },
     "execution_count": 74,
     "metadata": {},
     "output_type": "execute_result"
    }
   ],
   "source": [
    "from sklearn.linear_model import LogisticRegression\n",
    "from sklearn.model_selection import cross_val_score\n",
    "\n",
    "X = df[[0]]\n",
    "Y = df[[136]]\n",
    "model = LogisticRegression()\n",
    "model.fit(X,Y)"
   ]
  },
  {
   "cell_type": "code",
   "execution_count": 71,
   "metadata": {},
   "outputs": [
    {
     "data": {
      "text/plain": [
       "[<matplotlib.lines.Line2D at 0x195b67b4240>]"
      ]
     },
     "execution_count": 71,
     "metadata": {},
     "output_type": "execute_result"
    },
    {
     "data": {
      "image/png": "[encoded data removed]",
      "text/plain": [
       "<Figure size 432x288 with 1 Axes>"
      ]
     },
     "metadata": {
      "needs_background": "light"
     },
     "output_type": "display_data"
    }
   ],
   "source": [
    "plt.scatter(X, Y, color = 'blue')        \n",
    "plt.plot(X, model.predict(X), color = 'red')"
   ]
  },
  {
   "cell_type": "code",
   "execution_count": null,
   "metadata": {},
   "outputs": [],
   "source": []
  },
  {
   "cell_type": "code",
   "execution_count": null,
   "metadata": {},
   "outputs": [],
   "source": []
  }
 ],
 "metadata": {
  "kernelspec": {
   "display_name": "Python 3",
   "language": "python",
   "name": "python3"
  },
  "language_info": {
   "codemirror_mode": {
    "name": "ipython",
    "version": 3
   },
   "file_extension": ".py",
   "mimetype": "text/x-python",
   "name": "python",
   "nbconvert_exporter": "python",
   "pygments_lexer": "ipython3",
   "version": "3.7.3"
  }
 },
 "nbformat": 4,
 "nbformat_minor": 2
}
